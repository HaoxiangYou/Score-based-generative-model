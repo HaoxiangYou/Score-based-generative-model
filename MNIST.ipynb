{
 "cells": [
  {
   "cell_type": "markdown",
   "metadata": {},
   "source": [
    "### In this example, the distribution of MNIST dataset will be learn and generate new samples form it."
   ]
  },
  {
   "cell_type": "code",
   "execution_count": 1,
   "metadata": {},
   "outputs": [],
   "source": [
    "import numpy as np\n",
    "import optax\n",
    "import jax\n",
    "import jax.numpy as jnp\n",
    "import matplotlib.pyplot as plt\n",
    "from torchvision.datasets import MNIST\n",
    "from jax.tree_util import tree_map\n",
    "from torch.utils import data\n",
    "from functools import partial\n",
    "\n",
    "from utils.sampling_utlis import ula\n",
    "from utils.score_matching_utlis import score_matching_loss, sliced_score_matching_loss\n",
    "from model.model import Score_MLP"
   ]
  },
  {
   "cell_type": "markdown",
   "metadata": {},
   "source": [
    "### Get the dataset"
   ]
  },
  {
   "cell_type": "code",
   "execution_count": 2,
   "metadata": {},
   "outputs": [
    {
     "data": {
      "image/png": "[encoded data removed]",
      "text/plain": [
       "<Figure size 640x480 with 1 Axes>"
      ]
     },
     "metadata": {},
     "output_type": "display_data"
    }
   ],
   "source": [
    "def visual_image(image, label=None):\n",
    "    plt.figure()\n",
    "    plt.imshow(image.reshape(28,28))\n",
    "    if label:\n",
    "        plt.title(label)\n",
    "    plt.axis(\"off\")\n",
    "\n",
    "def numpy_collate(batch):\n",
    "  return tree_map(np.asarray, data.default_collate(batch))\n",
    "\n",
    "class NumpyLoader(data.DataLoader):\n",
    "  def __init__(self, dataset, batch_size=1,\n",
    "                shuffle=False, sampler=None,\n",
    "                batch_sampler=None, num_workers=0,\n",
    "                pin_memory=False, drop_last=False,\n",
    "                timeout=0, worker_init_fn=None):\n",
    "    super(self.__class__, self).__init__(dataset,\n",
    "        batch_size=batch_size,\n",
    "        shuffle=shuffle,\n",
    "        sampler=sampler,\n",
    "        batch_sampler=batch_sampler,\n",
    "        num_workers=num_workers,\n",
    "        collate_fn=numpy_collate,\n",
    "        pin_memory=pin_memory,\n",
    "        drop_last=drop_last,\n",
    "        timeout=timeout,\n",
    "        worker_init_fn=worker_init_fn)\n",
    "\n",
    "class FlattenAndNormal(object):\n",
    "  def __call__(self, pic):\n",
    "    return np.ravel(np.array(pic, dtype=jnp.float32)) / 255\n",
    "  \n",
    "mnist_dataset = MNIST('./dataset', download=True, transform=FlattenAndNormal())\n",
    "training_dataloader = NumpyLoader(mnist_dataset, batch_size=128, shuffle=True, drop_last=True)\n",
    "\n",
    "images, labels = next(iter(training_dataloader))\n",
    "visual_image(images[0], labels[0])\n",
    "img_dim = images.shape[1]"
   ]
  },
  {
   "cell_type": "markdown",
   "metadata": {},
   "source": [
    "### Learn the MNIST distribution"
   ]
  },
  {
   "cell_type": "code",
   "execution_count": 3,
   "metadata": {},
   "outputs": [],
   "source": [
    "random_key = jax.random.PRNGKey(0)\n",
    "model = Score_MLP(features=[128]*4, dim=img_dim)\n",
    "random_key, key_to_use = jax.random.split(random_key)\n",
    "model_param = model.init(key_to_use, images[0], 0)\n",
    "optimizer = optax.adam(learning_rate=1e-3)\n",
    "optimizer_state = optimizer.init(model_param)\n",
    "\n",
    "score_matching_loss_wrapped = partial(sliced_score_matching_loss, model.apply)"
   ]
  },
  {
   "cell_type": "code",
   "execution_count": 4,
   "metadata": {},
   "outputs": [
    {
     "name": "stdout",
     "output_type": "stream",
     "text": [
      "iter:1, loss:-2873.198974609375\n",
      "iter:2, loss:-56358.13671875\n",
      "iter:3, loss:-327052.03125\n",
      "iter:4, loss:-749166.125\n",
      "iter:5, loss:-1185082.5\n",
      "iter:6, loss:-2520335.75\n",
      "iter:7, loss:-3889591.25\n",
      "iter:8, loss:-5581381.0\n",
      "iter:9, loss:-6733656.0\n",
      "iter:10, loss:-10683164.0\n",
      "iter:11, loss:-13669540.0\n",
      "iter:12, loss:-18651712.0\n",
      "iter:13, loss:-25920096.0\n",
      "iter:14, loss:-21853434.0\n",
      "iter:15, loss:-22427046.0\n",
      "iter:16, loss:-32466284.0\n",
      "iter:17, loss:-39260100.0\n",
      "iter:18, loss:-39535936.0\n",
      "iter:19, loss:-49214256.0\n",
      "iter:20, loss:-51049708.0\n",
      "iter:21, loss:-62754220.0\n",
      "iter:22, loss:-87377192.0\n",
      "iter:23, loss:-95372512.0\n",
      "iter:24, loss:-91059424.0\n",
      "iter:25, loss:-120371944.0\n",
      "iter:26, loss:-127358224.0\n",
      "iter:27, loss:-82578872.0\n",
      "iter:28, loss:-121980472.0\n",
      "iter:29, loss:-27981860.0\n",
      "iter:30, loss:-38155160.0\n",
      "iter:31, loss:-54047352.0\n",
      "iter:32, loss:-52015828.0\n",
      "iter:33, loss:-37877084.0\n",
      "iter:34, loss:-49468892.0\n",
      "iter:35, loss:-56687324.0\n",
      "iter:36, loss:-51842840.0\n",
      "iter:37, loss:-57735088.0\n",
      "iter:38, loss:-69625704.0\n",
      "iter:39, loss:-98765648.0\n",
      "iter:40, loss:-47859628.0\n",
      "iter:41, loss:-54342592.0\n",
      "iter:42, loss:-73620400.0\n",
      "iter:43, loss:-94549008.0\n",
      "iter:44, loss:-114126528.0\n",
      "iter:45, loss:-104732504.0\n",
      "iter:46, loss:-127889976.0\n",
      "iter:47, loss:-137178976.0\n",
      "iter:48, loss:-128806200.0\n",
      "iter:49, loss:-99025512.0\n",
      "iter:50, loss:-118122224.0\n",
      "iter:51, loss:-178706912.0\n",
      "iter:52, loss:-121603720.0\n",
      "iter:53, loss:-130989696.0\n",
      "iter:54, loss:-121751688.0\n",
      "iter:55, loss:-120743864.0\n",
      "iter:56, loss:-152217968.0\n",
      "iter:57, loss:-160969792.0\n",
      "iter:58, loss:-93366088.0\n",
      "iter:59, loss:-167432688.0\n",
      "iter:60, loss:-250853968.0\n",
      "iter:61, loss:-189418112.0\n",
      "iter:62, loss:-124712072.0\n",
      "iter:63, loss:-143672928.0\n",
      "iter:64, loss:-181133296.0\n",
      "iter:65, loss:-188624624.0\n",
      "iter:66, loss:-262541872.0\n",
      "iter:67, loss:-195603008.0\n",
      "iter:68, loss:-214888112.0\n",
      "iter:69, loss:-232791152.0\n",
      "iter:70, loss:-266145600.0\n",
      "iter:71, loss:-305965184.0\n",
      "iter:72, loss:-289557024.0\n",
      "iter:73, loss:-295978336.0\n",
      "iter:74, loss:-400985632.0\n",
      "iter:75, loss:-234551504.0\n",
      "iter:76, loss:-341074592.0\n",
      "iter:77, loss:-251376240.0\n",
      "iter:78, loss:-280710176.0\n",
      "iter:79, loss:-262633376.0\n",
      "iter:80, loss:-244984880.0\n",
      "iter:81, loss:-131573816.0\n",
      "iter:82, loss:-200053584.0\n",
      "iter:83, loss:-235467264.0\n",
      "iter:84, loss:-269695616.0\n",
      "iter:85, loss:-266305088.0\n",
      "iter:86, loss:-231951040.0\n",
      "iter:87, loss:-325711392.0\n",
      "iter:88, loss:-267262960.0\n",
      "iter:89, loss:-306088768.0\n",
      "iter:90, loss:-369545824.0\n",
      "iter:91, loss:-292292384.0\n",
      "iter:92, loss:-409144608.0\n",
      "iter:93, loss:-372299040.0\n",
      "iter:94, loss:-480780000.0\n",
      "iter:95, loss:-598859712.0\n",
      "iter:96, loss:-402032384.0\n",
      "iter:97, loss:-471576864.0\n",
      "iter:98, loss:-609526272.0\n",
      "iter:99, loss:-508826912.0\n",
      "iter:100, loss:-507000768.0\n",
      "iter:101, loss:-557796800.0\n",
      "iter:102, loss:-422436128.0\n",
      "iter:103, loss:-494807360.0\n",
      "iter:104, loss:-341966528.0\n",
      "iter:105, loss:-206765680.0\n",
      "iter:106, loss:-180395088.0\n",
      "iter:107, loss:-234001136.0\n",
      "iter:108, loss:-188864240.0\n",
      "iter:109, loss:-233243312.0\n",
      "iter:110, loss:-290748128.0\n",
      "iter:111, loss:-309297376.0\n",
      "iter:112, loss:-286233504.0\n",
      "iter:113, loss:-222297520.0\n",
      "iter:114, loss:-249138432.0\n",
      "iter:115, loss:-304165344.0\n",
      "iter:116, loss:-330736704.0\n",
      "iter:117, loss:-268107856.0\n",
      "iter:118, loss:-343413088.0\n",
      "iter:119, loss:-329155072.0\n",
      "iter:120, loss:-295339488.0\n",
      "iter:121, loss:-296423648.0\n",
      "iter:122, loss:-397240032.0\n",
      "iter:123, loss:-401127488.0\n",
      "iter:124, loss:-416437024.0\n",
      "iter:125, loss:-357403520.0\n",
      "iter:126, loss:-455885696.0\n",
      "iter:127, loss:-475256672.0\n",
      "iter:128, loss:-534668608.0\n",
      "iter:129, loss:-583100928.0\n",
      "iter:130, loss:-577672512.0\n",
      "iter:131, loss:-637218688.0\n",
      "iter:132, loss:-666268096.0\n",
      "iter:133, loss:-558667776.0\n",
      "iter:134, loss:-666386688.0\n",
      "iter:135, loss:-591772480.0\n",
      "iter:136, loss:-764497344.0\n",
      "iter:137, loss:-674811840.0\n",
      "iter:138, loss:-596257472.0\n",
      "iter:139, loss:-779206656.0\n",
      "iter:140, loss:-719222080.0\n",
      "iter:141, loss:-663040960.0\n",
      "iter:142, loss:-791625536.0\n",
      "iter:143, loss:-892697408.0\n",
      "iter:144, loss:-855224448.0\n",
      "iter:145, loss:-822398016.0\n",
      "iter:146, loss:-847405696.0\n",
      "iter:147, loss:-861085888.0\n",
      "iter:148, loss:-935496768.0\n",
      "iter:149, loss:-861188096.0\n",
      "iter:150, loss:-721109504.0\n",
      "iter:151, loss:-795572800.0\n",
      "iter:152, loss:-818888960.0\n",
      "iter:153, loss:-739075264.0\n",
      "iter:154, loss:-779534464.0\n",
      "iter:155, loss:-926854976.0\n",
      "iter:156, loss:-931659968.0\n",
      "iter:157, loss:-943507968.0\n",
      "iter:158, loss:-835800512.0\n",
      "iter:159, loss:-995455872.0\n",
      "iter:160, loss:-1061002880.0\n",
      "iter:161, loss:-852400832.0\n",
      "iter:162, loss:-957263680.0\n",
      "iter:163, loss:-1157870592.0\n",
      "iter:164, loss:-994867008.0\n",
      "iter:165, loss:-1053153856.0\n",
      "iter:166, loss:-1017439424.0\n",
      "iter:167, loss:-829504512.0\n",
      "iter:168, loss:-1100394112.0\n",
      "iter:169, loss:-955545536.0\n",
      "iter:170, loss:-1001857024.0\n",
      "iter:171, loss:-860327680.0\n",
      "iter:172, loss:-1082170368.0\n",
      "iter:173, loss:-942359424.0\n",
      "iter:174, loss:-1035201792.0\n",
      "iter:175, loss:-871718336.0\n",
      "iter:176, loss:-1113074560.0\n",
      "iter:177, loss:-1190793088.0\n",
      "iter:178, loss:-1017956032.0\n",
      "iter:179, loss:-1518663680.0\n",
      "iter:180, loss:-1497558912.0\n",
      "iter:181, loss:-1513374336.0\n",
      "iter:182, loss:-226054048.0\n",
      "iter:183, loss:-563402368.0\n",
      "iter:184, loss:-1489579136.0\n",
      "iter:185, loss:-1913665280.0\n",
      "iter:186, loss:-1837315840.0\n",
      "iter:187, loss:-1864721536.0\n",
      "iter:188, loss:-2369350912.0\n",
      "iter:189, loss:-1916914432.0\n",
      "iter:190, loss:-2449644800.0\n",
      "iter:191, loss:-2130495232.0\n",
      "iter:192, loss:-2725608448.0\n",
      "iter:193, loss:-2174039808.0\n",
      "iter:194, loss:-2540915968.0\n",
      "iter:195, loss:-2225029120.0\n",
      "iter:196, loss:-3038401536.0\n",
      "iter:197, loss:-2654901248.0\n",
      "iter:198, loss:-2191968512.0\n",
      "iter:199, loss:-3042021120.0\n",
      "iter:200, loss:-2673773824.0\n"
     ]
    }
   ],
   "source": [
    "@jax.jit\n",
    "def params_update(param, optimizer_state, xs, random_key):\n",
    "    ts = jnp.zeros(xs.shape[0])\n",
    "    loss, grad = jax.value_and_grad(score_matching_loss_wrapped)(param, xs, ts, random_key)\n",
    "    update, optimizer_state = optimizer.update(grad, optimizer_state, param)\n",
    "    param = optax.apply_updates(param, update)\n",
    "    return loss, param, optimizer_state\n",
    "\n",
    "losses = []\n",
    "for epoch in range(200):\n",
    "    total_loss = 0\n",
    "    # get a batch of data\n",
    "    for i, (images, labels) in enumerate(training_dataloader):\n",
    "    # one step grad update\n",
    "        random_key, key_to_use = jax.random.split(random_key)\n",
    "        loss, model_param, optimizer_state = params_update(model_param, optimizer_state, images, key_to_use)\n",
    "        total_loss += loss\n",
    "    \n",
    "    losses.append(total_loss / len(training_dataloader))\n",
    "    print(f\"iter:{epoch+1}, loss:{losses[-1]}\")"
   ]
  },
  {
   "cell_type": "code",
   "execution_count": 5,
   "metadata": {},
   "outputs": [
    {
     "data": {
      "text/plain": [
       "[]"
      ]
     },
     "execution_count": 5,
     "metadata": {},
     "output_type": "execute_result"
    },
    {
     "data": {
      "image/png": "[encoded data removed]",
      "text/plain": [
       "<Figure size 640x480 with 1 Axes>"
      ]
     },
     "metadata": {},
     "output_type": "display_data"
    }
   ],
   "source": [
    "plt.figure()\n",
    "plt.plot(losses, label=\"training loss\")\n",
    "plt.xlabel(\"epoch\")\n",
    "plt.ylabel(\"loss\")\n",
    "plt.plot()"
   ]
  },
  {
   "cell_type": "markdown",
   "metadata": {},
   "source": [
    "### Evaluate numerical stability\n",
    "The score-matching loss tend to be very big numerically.\n",
    "Here we try to evaluate the numerical value of **(model param) gradient**,and the **score value** in and out of distributions   \n",
    "\n",
    "Here, we see simply run score-matching and Langevin dynamics lead to a very **big numerical value** for score even inside distribition. Moreover, after one-step Langevin dynamics, the update result is not a valid image anymore and the score function there is **very very big**, further drift the sample away.\n",
    "\n",
    "We also going to estimate the Lipschitz constant L of the learned function. Theoretically, for a alpha-LSI target distribution, we should choose the step size for ULA to be smaller than alpha / 4L**2. Note the alpha here can also be very large"
   ]
  },
  {
   "cell_type": "code",
   "execution_count": 19,
   "metadata": {},
   "outputs": [
    {
     "name": "stdout",
     "output_type": "stream",
     "text": [
      "Layer:Dense_0, Kernel max:5388688384.0, Bias max:5662891008.0\n",
      "Layer:Dense_1, Kernel max:1563972864.0, Bias max:624253312.0\n",
      "Layer:Dense_2, Kernel max:842654592.0, Bias max:27939962.0\n",
      "Layer:Dense_3, Kernel max:95728800.0, Bias max:1301007.5\n",
      "Layer:Dense_4, Kernel max:3950678.5, Bias max:3444.17236328125\n",
      "Max score inside dist:1270.434814453125\n",
      "Image max-min after one step Langevin dynamics 12.704347610473633, -12.678244590759277\n",
      "Max score out dist(use one step update image):23995721728.0\n",
      "Estimate L-smooth of learned score is: 162843.62\n"
     ]
    }
   ],
   "source": [
    "# Numerical stability\n",
    "loss, grad = jax.value_and_grad(score_matching_loss_wrapped)(model_param, images, np.zeros(images.shape[0]), random_key)\n",
    "\n",
    "for layer in grad[\"params\"]:\n",
    "\n",
    "    kernel_max = jnp.max(jnp.abs(grad[\"params\"][layer][\"kernel\"]))\n",
    "    bias_max = jnp.max(jnp.abs(grad[\"params\"][layer][\"bias\"]))\n",
    "    print(f\"Layer:{layer}, Kernel max:{kernel_max}, Bias max:{bias_max}\")\n",
    "\n",
    "print(f\"Max score inside dist:{jnp.max(jnp.abs(model.apply(model_param, images[0], 0)))}\")\n",
    "images_after_one_step_LD = model.apply(model_param, images[0], 0) * 0.01 + images[0]\n",
    "print(f\"Image max-min after one step Langevin dynamics {np.max(images_after_one_step_LD)}, {np.min(images_after_one_step_LD)}\" )\n",
    "print(f\"Max score out dist(use one step update image):{jnp.max(jnp.abs(model.apply(model_param, images_after_one_step_LD, 0)))}\")\n",
    "\n",
    "@jax.jit\n",
    "def learned_score_function_smooth_anaysis(x, y):\n",
    "    return jnp.linalg.norm(model.apply(model_param, x, 0) - model.apply(model_param, y, 0)) - jnp.linalg.norm(x-y)\n",
    "\n",
    "L = 0\n",
    "for i in range(100):\n",
    "    random_two_image = images[np.random.choice(images.shape[0],size=2),:]\n",
    "    L_candidate = learned_score_function_smooth_anaysis(random_two_image[0], random_two_image[1])\n",
    "    if L < L_candidate:\n",
    "        L = L_candidate\n",
    "\n",
    "print(\"Estimate L-smooth of learned score is:\", L)"
   ]
  },
  {
   "cell_type": "markdown",
   "metadata": {},
   "source": [
    "### Generate sample use learned score function"
   ]
  },
  {
   "cell_type": "code",
   "execution_count": 32,
   "metadata": {},
   "outputs": [
    {
     "name": "stdout",
     "output_type": "stream",
     "text": [
      "The initial score function biggest entries 7554.0293\n"
     ]
    },
    {
     "data": {
      "image/png": "[encoded data removed]",
      "text/plain": [
       "<Figure size 640x480 with 1 Axes>"
      ]
     },
     "metadata": {},
     "output_type": "display_data"
    },
    {
     "data": {
      "image/png": "[encoded data removed]",
      "text/plain": [
       "<Figure size 640x480 with 1 Axes>"
      ]
     },
     "metadata": {},
     "output_type": "display_data"
    },
    {
     "data": {
      "image/png": "[encoded data removed]",
      "text/plain": [
       "<Figure size 640x480 with 1 Axes>"
      ]
     },
     "metadata": {},
     "output_type": "display_data"
    },
    {
     "data": {
      "image/png": "[encoded data removed]",
      "text/plain": [
       "<Figure size 640x480 with 1 Axes>"
      ]
     },
     "metadata": {},
     "output_type": "display_data"
    }
   ],
   "source": [
    "@jax.jit\n",
    "def learned_score_fn(x, t):\n",
    "    return model.apply(model_param, x, jnp.zeros_like(t))\n",
    "\n",
    "random_key = jax.random.PRNGKey(0)\n",
    "\n",
    "# use mean and cov calculate from samples to construct a Gaussian\n",
    "x0s = np.random.multivariate_normal(mean=np.mean(images,axis=0), cov=np.cov(images, rowvar=False), size=2)\n",
    "random_keys = jax.random.split(random_key, 2)\n",
    "\n",
    "ula_wrapped = partial(ula, learned_score_fn, T=1, dt=0.01)\n",
    "\n",
    "samples = jax.vmap(ula_wrapped)(x0s, random_keys)\n",
    "\n",
    "print(\"The initial score function biggest entries\", np.max(np.abs(learned_score_fn(x0s, np.array([0,0])))))\n",
    "\n",
    "visual_image(x0s[0], label=\"Initial image 0 \")\n",
    "visual_image(samples[0], label=\"ULA sample 0\")\n",
    "visual_image(x0s[1], label=\"Initial image 1\")\n",
    "visual_image(samples[1], label=\"ULA sample 1\")"
   ]
  }
 ],
 "metadata": {
  "kernelspec": {
   "display_name": "ESE650",
   "language": "python",
   "name": "python3"
  },
  "language_info": {
   "codemirror_mode": {
    "name": "ipython",
    "version": 3
   },
   "file_extension": ".py",
   "mimetype": "text/x-python",
   "name": "python",
   "nbconvert_exporter": "python",
   "pygments_lexer": "ipython3",
   "version": "3.10.12"
  }
 },
 "nbformat": 4,
 "nbformat_minor": 2
}

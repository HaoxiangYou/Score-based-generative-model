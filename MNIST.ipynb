{
 "cells": [
  {
   "cell_type": "markdown",
   "metadata": {},
   "source": [
    "### In this example, the distribution of MNIST dataset will be learn and generate new samples form it."
   ]
  },
  {
   "cell_type": "code",
   "execution_count": 1,
   "metadata": {},
   "outputs": [],
   "source": [
    "import numpy as np\n",
    "import optax\n",
    "import jax\n",
    "import jax.numpy as jnp\n",
    "import matplotlib.pyplot as plt\n",
    "from torchvision.datasets import MNIST\n",
    "from jax.tree_util import tree_map\n",
    "from torch.utils import data\n",
    "from functools import partial\n",
    "\n",
    "from utils.sampling_utlis import ula\n",
    "from utils.score_matching_utlis import score_matching_loss, sliced_score_matching_loss\n",
    "from model.model import Score_MLP"
   ]
  },
  {
   "cell_type": "markdown",
   "metadata": {},
   "source": [
    "### Get the dataset"
   ]
  },
  {
   "cell_type": "code",
   "execution_count": 2,
   "metadata": {},
   "outputs": [
    {
     "data": {
      "image/png": "[encoded data removed]",
      "text/plain": [
       "<Figure size 640x480 with 1 Axes>"
      ]
     },
     "metadata": {},
     "output_type": "display_data"
    }
   ],
   "source": [
    "def visual_image(image, label=None):\n",
    "    plt.figure()\n",
    "    plt.imshow(image.reshape(28,28))\n",
    "    if label:\n",
    "        plt.title(label)\n",
    "    plt.axis(\"off\")\n",
    "\n",
    "def numpy_collate(batch):\n",
    "  return tree_map(np.asarray, data.default_collate(batch))\n",
    "\n",
    "class NumpyLoader(data.DataLoader):\n",
    "  def __init__(self, dataset, batch_size=1,\n",
    "                shuffle=False, sampler=None,\n",
    "                batch_sampler=None, num_workers=0,\n",
    "                pin_memory=False, drop_last=False,\n",
    "                timeout=0, worker_init_fn=None):\n",
    "    super(self.__class__, self).__init__(dataset,\n",
    "        batch_size=batch_size,\n",
    "        shuffle=shuffle,\n",
    "        sampler=sampler,\n",
    "        batch_sampler=batch_sampler,\n",
    "        num_workers=num_workers,\n",
    "        collate_fn=numpy_collate,\n",
    "        pin_memory=pin_memory,\n",
    "        drop_last=drop_last,\n",
    "        timeout=timeout,\n",
    "        worker_init_fn=worker_init_fn)\n",
    "\n",
    "class FlattenAndNormal(object):\n",
    "  def __call__(self, pic):\n",
    "    return np.ravel(np.array(pic, dtype=jnp.float32)) / 255\n",
    "  \n",
    "mnist_dataset = MNIST('./dataset', download=True, transform=FlattenAndNormal())\n",
    "training_dataloader = NumpyLoader(mnist_dataset, batch_size=128, shuffle=True, drop_last=True)\n",
    "\n",
    "images, labels = next(iter(training_dataloader))\n",
    "visual_image(images[0], labels[0])\n",
    "img_dim = images.shape[1]"
   ]
  },
  {
   "cell_type": "markdown",
   "metadata": {},
   "source": [
    "### Learn the MNIST distribution"
   ]
  },
  {
   "cell_type": "code",
   "execution_count": 3,
   "metadata": {},
   "outputs": [],
   "source": [
    "random_key = jax.random.PRNGKey(0)\n",
    "model = Score_MLP(features=[128]*4, dim=img_dim)\n",
    "random_key, key_to_use = jax.random.split(random_key)\n",
    "model_param = model.init(key_to_use, images[0], 0)\n",
    "optimizer = optax.adam(learning_rate=1e-3)\n",
    "optimizer_state = optimizer.init(model_param)\n",
    "\n",
    "score_matching_loss_wrapped = partial(sliced_score_matching_loss, model.apply)"
   ]
  },
  {
   "cell_type": "code",
   "execution_count": 4,
   "metadata": {},
   "outputs": [
    {
     "name": "stdout",
     "output_type": "stream",
     "text": [
      "iter:1, loss:-3001.431396484375\n",
      "iter:2, loss:-57652.43359375\n",
      "iter:3, loss:-336931.09375\n",
      "iter:4, loss:-979503.6875\n",
      "iter:5, loss:-2002505.5\n",
      "iter:6, loss:-3266862.75\n",
      "iter:7, loss:-4714966.0\n",
      "iter:8, loss:-7564846.0\n",
      "iter:9, loss:-9844822.0\n",
      "iter:10, loss:-12903512.0\n",
      "iter:11, loss:-17790052.0\n",
      "iter:12, loss:-23321154.0\n",
      "iter:13, loss:-23918322.0\n",
      "iter:14, loss:-35916744.0\n",
      "iter:15, loss:-34965228.0\n",
      "iter:16, loss:-30673120.0\n",
      "iter:17, loss:-37776204.0\n",
      "iter:18, loss:-56585264.0\n",
      "iter:19, loss:-54854720.0\n",
      "iter:20, loss:-64038104.0\n",
      "iter:21, loss:-68561384.0\n",
      "iter:22, loss:-66597020.0\n",
      "iter:23, loss:-75052872.0\n",
      "iter:24, loss:-78815504.0\n",
      "iter:25, loss:-103130248.0\n",
      "iter:26, loss:-140762992.0\n",
      "iter:27, loss:-154167984.0\n",
      "iter:28, loss:-176515312.0\n",
      "iter:29, loss:-184078064.0\n",
      "iter:30, loss:-200586368.0\n",
      "iter:31, loss:-209441280.0\n",
      "iter:32, loss:-236224160.0\n",
      "iter:33, loss:-269777920.0\n",
      "iter:34, loss:-169111296.0\n",
      "iter:35, loss:-237925568.0\n",
      "iter:36, loss:-223019952.0\n",
      "iter:37, loss:-253958544.0\n",
      "iter:38, loss:-287785888.0\n",
      "iter:39, loss:-307417984.0\n",
      "iter:40, loss:-323581280.0\n",
      "iter:41, loss:-399582240.0\n",
      "iter:42, loss:-409331360.0\n",
      "iter:43, loss:-446763232.0\n",
      "iter:44, loss:-465933920.0\n",
      "iter:45, loss:-545806336.0\n",
      "iter:46, loss:-597017792.0\n",
      "iter:47, loss:-580342784.0\n",
      "iter:48, loss:-517551776.0\n",
      "iter:49, loss:-569585984.0\n",
      "iter:50, loss:-483377632.0\n",
      "iter:51, loss:-464647072.0\n",
      "iter:52, loss:-422138336.0\n",
      "iter:53, loss:-571904320.0\n",
      "iter:54, loss:-572084224.0\n",
      "iter:55, loss:-624047296.0\n",
      "iter:56, loss:-612951488.0\n",
      "iter:57, loss:-619306688.0\n",
      "iter:58, loss:-638301952.0\n",
      "iter:59, loss:-710106944.0\n",
      "iter:60, loss:-723839744.0\n",
      "iter:61, loss:-692586304.0\n",
      "iter:62, loss:-844882368.0\n",
      "iter:63, loss:-817103616.0\n",
      "iter:64, loss:-820991232.0\n",
      "iter:65, loss:-874198080.0\n",
      "iter:66, loss:-920944000.0\n",
      "iter:67, loss:-1042054784.0\n",
      "iter:68, loss:-1033233216.0\n",
      "iter:69, loss:-1011803072.0\n",
      "iter:70, loss:-1119286784.0\n",
      "iter:71, loss:-1041129536.0\n",
      "iter:72, loss:-1056297216.0\n",
      "iter:73, loss:-1266040832.0\n",
      "iter:74, loss:-1292384512.0\n",
      "iter:75, loss:-1218499840.0\n",
      "iter:76, loss:-1166244352.0\n",
      "iter:77, loss:-1336006784.0\n",
      "iter:78, loss:-1381070592.0\n",
      "iter:79, loss:-1339467136.0\n",
      "iter:80, loss:-1321985792.0\n",
      "iter:81, loss:-1541679616.0\n",
      "iter:82, loss:-1508409728.0\n",
      "iter:83, loss:-1459799296.0\n",
      "iter:84, loss:-1594615680.0\n",
      "iter:85, loss:-1763227008.0\n",
      "iter:86, loss:-1738540928.0\n",
      "iter:87, loss:-1833488384.0\n",
      "iter:88, loss:-1873087744.0\n",
      "iter:89, loss:-1849814016.0\n",
      "iter:90, loss:-1932407808.0\n",
      "iter:91, loss:-1972759680.0\n",
      "iter:92, loss:-2023596800.0\n",
      "iter:93, loss:-1886965376.0\n",
      "iter:94, loss:-2110269952.0\n",
      "iter:95, loss:-2214266112.0\n",
      "iter:96, loss:-2301112576.0\n",
      "iter:97, loss:-2181317376.0\n",
      "iter:98, loss:-2315578112.0\n",
      "iter:99, loss:-2408819712.0\n",
      "iter:100, loss:-2323598592.0\n",
      "iter:101, loss:-2531974400.0\n",
      "iter:102, loss:-2280974080.0\n",
      "iter:103, loss:-2662174720.0\n",
      "iter:104, loss:-2645840896.0\n",
      "iter:105, loss:-2554634240.0\n",
      "iter:106, loss:-2822371072.0\n",
      "iter:107, loss:-2725024000.0\n",
      "iter:108, loss:-2977111296.0\n",
      "iter:109, loss:-3204864768.0\n",
      "iter:110, loss:-3193587456.0\n",
      "iter:111, loss:-3045883648.0\n",
      "iter:112, loss:-3099732736.0\n",
      "iter:113, loss:-3257982208.0\n",
      "iter:114, loss:-3475502592.0\n",
      "iter:115, loss:-3461563136.0\n",
      "iter:116, loss:-3685579264.0\n",
      "iter:117, loss:-3577873152.0\n",
      "iter:118, loss:-4004136192.0\n",
      "iter:119, loss:-3835499264.0\n",
      "iter:120, loss:-4018328064.0\n",
      "iter:121, loss:-4004967680.0\n",
      "iter:122, loss:-3910494208.0\n",
      "iter:123, loss:-3940411392.0\n",
      "iter:124, loss:-4183348992.0\n",
      "iter:125, loss:-4031247104.0\n",
      "iter:126, loss:-4308606976.0\n",
      "iter:127, loss:-4663420416.0\n",
      "iter:128, loss:-4427197440.0\n",
      "iter:129, loss:-4635241984.0\n",
      "iter:130, loss:-4805758976.0\n",
      "iter:131, loss:-4896999936.0\n",
      "iter:132, loss:-4993774080.0\n",
      "iter:133, loss:-5094976512.0\n",
      "iter:134, loss:-4883449344.0\n",
      "iter:135, loss:-5441861632.0\n",
      "iter:136, loss:-5495380992.0\n",
      "iter:137, loss:-5618138624.0\n",
      "iter:138, loss:-4965440512.0\n",
      "iter:139, loss:-5374902272.0\n",
      "iter:140, loss:-5740135936.0\n",
      "iter:141, loss:-5747687424.0\n",
      "iter:142, loss:-5906477056.0\n",
      "iter:143, loss:-6281372672.0\n",
      "iter:144, loss:-5423479808.0\n",
      "iter:145, loss:-5699303936.0\n",
      "iter:146, loss:-6144196096.0\n",
      "iter:147, loss:-6155778048.0\n",
      "iter:148, loss:-5811211776.0\n",
      "iter:149, loss:-5999199232.0\n",
      "iter:150, loss:-6092669952.0\n",
      "iter:151, loss:-6044477440.0\n",
      "iter:152, loss:-5588103168.0\n",
      "iter:153, loss:-6294967808.0\n",
      "iter:154, loss:-6191418368.0\n",
      "iter:155, loss:-6764437504.0\n",
      "iter:156, loss:-6247330304.0\n",
      "iter:157, loss:-6570589696.0\n",
      "iter:158, loss:-7333488128.0\n",
      "iter:159, loss:-7734493696.0\n",
      "iter:160, loss:-6683309056.0\n",
      "iter:161, loss:-7382870016.0\n",
      "iter:162, loss:-7716521984.0\n",
      "iter:163, loss:-7541350400.0\n",
      "iter:164, loss:-6991878144.0\n",
      "iter:165, loss:-7035486208.0\n",
      "iter:166, loss:-7383814656.0\n",
      "iter:167, loss:-7976634880.0\n",
      "iter:168, loss:-7101829632.0\n",
      "iter:169, loss:-7990954496.0\n",
      "iter:170, loss:-7819239936.0\n",
      "iter:171, loss:-8126179840.0\n",
      "iter:172, loss:-8163691520.0\n",
      "iter:173, loss:-8594442240.0\n",
      "iter:174, loss:-7622269952.0\n",
      "iter:175, loss:-8577157120.0\n",
      "iter:176, loss:-8366653440.0\n",
      "iter:177, loss:-8457051136.0\n",
      "iter:178, loss:-10005086208.0\n",
      "iter:179, loss:-9912830976.0\n",
      "iter:180, loss:-9845361664.0\n",
      "iter:181, loss:-10284518400.0\n",
      "iter:182, loss:-10139537408.0\n",
      "iter:183, loss:-10740381696.0\n",
      "iter:184, loss:-10423387136.0\n",
      "iter:185, loss:-10299257856.0\n",
      "iter:186, loss:-9540626432.0\n",
      "iter:187, loss:-10220909568.0\n",
      "iter:188, loss:-10894656512.0\n",
      "iter:189, loss:-10458095616.0\n",
      "iter:190, loss:-10026644480.0\n",
      "iter:191, loss:-9756228608.0\n",
      "iter:192, loss:-9594485760.0\n",
      "iter:193, loss:-10412628992.0\n",
      "iter:194, loss:-10178996224.0\n",
      "iter:195, loss:-11329812480.0\n",
      "iter:196, loss:-10437614592.0\n",
      "iter:197, loss:-10186455040.0\n",
      "iter:198, loss:-10419016704.0\n",
      "iter:199, loss:-11015812096.0\n",
      "iter:200, loss:-10911988736.0\n"
     ]
    }
   ],
   "source": [
    "@jax.jit\n",
    "def params_update(param, optimizer_state, xs, random_key):\n",
    "    ts = jnp.zeros(xs.shape[0])\n",
    "    loss, grad = jax.value_and_grad(score_matching_loss_wrapped)(param, xs, ts, random_key)\n",
    "    update, optimizer_state = optimizer.update(grad, optimizer_state, param)\n",
    "    param = optax.apply_updates(param, update)\n",
    "    return loss, param, optimizer_state\n",
    "\n",
    "losses = []\n",
    "for epoch in range(200):\n",
    "    total_loss = 0\n",
    "    # get a batch of data\n",
    "    for i, (images, labels) in enumerate(training_dataloader):\n",
    "    # one step grad update\n",
    "        random_key, key_to_use = jax.random.split(random_key)\n",
    "        loss, model_param, optimizer_state = params_update(model_param, optimizer_state, images, key_to_use)\n",
    "        total_loss += loss\n",
    "    \n",
    "    losses.append(total_loss / len(training_dataloader))\n",
    "    print(f\"iter:{epoch+1}, loss:{losses[-1]}\")"
   ]
  },
  {
   "cell_type": "code",
   "execution_count": 5,
   "metadata": {},
   "outputs": [
    {
     "data": {
      "text/plain": [
       "[]"
      ]
     },
     "execution_count": 5,
     "metadata": {},
     "output_type": "execute_result"
    },
    {
     "data": {
      "image/png": "[encoded data removed]",
      "text/plain": [
       "<Figure size 640x480 with 1 Axes>"
      ]
     },
     "metadata": {},
     "output_type": "display_data"
    }
   ],
   "source": [
    "plt.figure()\n",
    "plt.plot(losses, label=\"training loss\")\n",
    "plt.xlabel(\"epoch\")\n",
    "plt.ylabel(\"loss\")\n",
    "plt.plot()"
   ]
  },
  {
   "cell_type": "markdown",
   "metadata": {},
   "source": [
    "### Evaluate numerical stability\n",
    "The score-matching loss tend to be very big numerically.\n",
    "Here we try to evaluate the numerical value of **(model param) gradient**,and the **score value** in and out of distributions   \n",
    "\n",
    "Here, we see simply run score-matching and Langevin dynamics lead to a very **big numerical value** for score even inside distribition. Moreover, after one-step Langevin dynamics, the update result is not a valid image anymore and the score function there is **very very big**, further drift the sample away."
   ]
  },
  {
   "cell_type": "code",
   "execution_count": 22,
   "metadata": {},
   "outputs": [
    {
     "name": "stdout",
     "output_type": "stream",
     "text": [
      "Layer:Dense_0, Kernel max:37345116160.0, Bias max:53889753088.0\n",
      "Layer:Dense_1, Kernel max:15566918656.0, Bias max:7367414784.0\n",
      "Layer:Dense_2, Kernel max:1758327424.0, Bias max:468232448.0\n",
      "Layer:Dense_3, Kernel max:738068928.0, Bias max:7296307.0\n",
      "Layer:Dense_4, Kernel max:6579706.0, Bias max:14264.08984375\n",
      "Max score inside dist:8146.15771484375\n",
      "Image max-min after one step Langevin dynamics 75.7485122680664, -81.46157836914062\n",
      "Max score out dist(use one step update image):142246969344.0\n"
     ]
    }
   ],
   "source": [
    "# Numerical stability\n",
    "loss, grad = jax.value_and_grad(score_matching_loss_wrapped)(model_param, images, np.zeros(images.shape[0]), random_key)\n",
    "\n",
    "for layer in grad[\"params\"]:\n",
    "\n",
    "    kernel_max = jnp.max(jnp.abs(grad[\"params\"][layer][\"kernel\"]))\n",
    "    bias_max = jnp.max(jnp.abs(grad[\"params\"][layer][\"bias\"]))\n",
    "    print(f\"Layer:{layer}, Kernel max:{kernel_max}, Bias max:{bias_max}\")\n",
    "\n",
    "print(f\"Max score inside dist:{jnp.max(jnp.abs(model.apply(model_param, images[0], 0)))}\")\n",
    "images_after_one_step_LD = model.apply(model_param, images[0], 0) * 0.01 + images[0]\n",
    "print(f\"Image max-min after one step Langevin dynamics {np.max(images_after_one_step_LD)}, {np.min(images_after_one_step_LD)}\" )\n",
    "print(f\"Max score out dist(use one step update image):{jnp.max(jnp.abs(model.apply(model_param, images_after_one_step_LD, 0)))}\")"
   ]
  },
  {
   "cell_type": "markdown",
   "metadata": {},
   "source": [
    "### Generate sample use learned score function"
   ]
  },
  {
   "cell_type": "code",
   "execution_count": 9,
   "metadata": {},
   "outputs": [
    {
     "name": "stdout",
     "output_type": "stream",
     "text": [
      "The initial score function biggest entries 113972.53\n"
     ]
    },
    {
     "data": {
      "image/png": "[encoded data removed]",
      "text/plain": [
       "<Figure size 640x480 with 1 Axes>"
      ]
     },
     "metadata": {},
     "output_type": "display_data"
    },
    {
     "data": {
      "image/png": "[encoded data removed]",
      "text/plain": [
       "<Figure size 640x480 with 1 Axes>"
      ]
     },
     "metadata": {},
     "output_type": "display_data"
    },
    {
     "data": {
      "image/png": "[encoded data removed]",
      "text/plain": [
       "<Figure size 640x480 with 1 Axes>"
      ]
     },
     "metadata": {},
     "output_type": "display_data"
    },
    {
     "data": {
      "image/png": "[encoded data removed]",
      "text/plain": [
       "<Figure size 640x480 with 1 Axes>"
      ]
     },
     "metadata": {},
     "output_type": "display_data"
    }
   ],
   "source": [
    "@jax.jit\n",
    "def learned_score_fn(x, t):\n",
    "    return model.apply(model_param, x, t)\n",
    "\n",
    "random_key = jax.random.PRNGKey(0)\n",
    "\n",
    "# use mean and cov calculate from samples to construct a Gaussian\n",
    "x0s = np.random.multivariate_normal(mean=np.mean(images,axis=0), cov=np.cov(images, rowvar=False), size=2)\n",
    "random_keys = jax.random.split(random_key, 2)\n",
    "\n",
    "ula_wrapped = partial(ula, learned_score_fn, T=10, dt=0.01)\n",
    "\n",
    "samples = jax.vmap(ula_wrapped)(x0s, random_keys)\n",
    "\n",
    "print(\"The initial score function biggest entries\", np.max(np.abs(learned_score_fn(x0s, np.array([0,0])))))\n",
    "\n",
    "visual_image(x0s[0], label=\"Initial image 0 \")\n",
    "visual_image(samples[0], label=\"ULA sample 0\")\n",
    "visual_image(x0s[1], label=\"Initial image 1\")\n",
    "visual_image(samples[1], label=\"ULA sample 1\")"
   ]
  }
 ],
 "metadata": {
  "kernelspec": {
   "display_name": "ESE650",
   "language": "python",
   "name": "python3"
  },
  "language_info": {
   "codemirror_mode": {
    "name": "ipython",
    "version": 3
   },
   "file_extension": ".py",
   "mimetype": "text/x-python",
   "name": "python",
   "nbconvert_exporter": "python",
   "pygments_lexer": "ipython3",
   "version": "3.10.12"
  }
 },
 "nbformat": 4,
 "nbformat_minor": 2
}
